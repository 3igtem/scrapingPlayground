{
 "cells": [
  {
   "cell_type": "markdown",
   "metadata": {},
   "source": [
    "# Import"
   ]
  },
  {
   "cell_type": "code",
   "execution_count": 1,
   "metadata": {},
   "outputs": [],
   "source": [
    "import sys\n",
    "import os\n",
    "import pandas as pd\n",
    "\n",
    "sys.path.append(os.path.abspath(\"..\"))\n",
    "from functions.imdb import *"
   ]
  },
  {
   "cell_type": "markdown",
   "metadata": {},
   "source": [
    "# Main"
   ]
  },
  {
   "cell_type": "code",
   "execution_count": 2,
   "metadata": {},
   "outputs": [],
   "source": [
    "# # Define genres to scrape\n",
    "# genres = [\n",
    "#           'game-show',\n",
    "#           'action',\n",
    "#           'adventure',\n",
    "#           'animation',\n",
    "#           'biography',\n",
    "#           'comedy',\n",
    "#           'crime',\n",
    "#           'documentary',\n",
    "#           'drama',\n",
    "#           'family',\n",
    "#           'fantasy',\n",
    "#           'film-noir',\n",
    "#           'history',\n",
    "#           'horror',\n",
    "#           'music',\n",
    "#           'musical',\n",
    "#           'mystery',\n",
    "#           'news',\n",
    "#           'reality-tv',\n",
    "#           'romance',\n",
    "#           'sci-fi',\n",
    "#           'sport',\n",
    "#           'talk-show',\n",
    "#           'thriller',\n",
    "#           'war',\n",
    "#           'western'\n",
    "#           ]"
   ]
  },
  {
   "cell_type": "code",
   "execution_count": null,
   "metadata": {},
   "outputs": [
    {
     "name": "stdout",
     "output_type": "stream",
     "text": [
      "Scraping movies for year 2025\n",
      " - Finished scraping movies for year 2025\n",
      "[Final] save: 7 movies to ../data/imdb_movies_2025.csv\n",
      "Scraping completed and saved to imdb_movies_2025.csv\n"
     ]
    }
   ],
   "source": [
    "movie_year = 2025\n",
    "movie_rating_count = 20000\n",
    "csv_filename = f'../data/imdb_movies_{movie_year}.csv'\n",
    "minimun_rate = 1\n",
    "batch_size = 10\n",
    "\n",
    "print(f\"Scraping movies for year {movie_year}\")\n",
    "get_movies_by_year(minimun_rate, \n",
    "                   movie_year, \n",
    "                   movie_rating_count, \n",
    "                   csv_filename, \n",
    "                   batch_size)\n",
    "\n",
    "print('='*30)\n",
    "print(f'Scraping completed and saved to imdb_movies_{movie_year}.csv')"
   ]
  }
 ],
 "metadata": {
  "kernelspec": {
   "display_name": "base",
   "language": "python",
   "name": "python3"
  },
  "language_info": {
   "codemirror_mode": {
    "name": "ipython",
    "version": 3
   },
   "file_extension": ".py",
   "mimetype": "text/x-python",
   "name": "python",
   "nbconvert_exporter": "python",
   "pygments_lexer": "ipython3",
   "version": "3.11.7"
  }
 },
 "nbformat": 4,
 "nbformat_minor": 2
}
